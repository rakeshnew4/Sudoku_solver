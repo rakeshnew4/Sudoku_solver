{
 "cells": [
  {
   "cell_type": "code",
   "execution_count": 1,
   "metadata": {},
   "outputs": [],
   "source": [
    "import numpy as np\n",
    "import pandas as pd\n"
   ]
  },
  {
   "cell_type": "code",
   "execution_count": 52,
   "metadata": {},
   "outputs": [
    {
     "data": {
      "text/plain": [
       "[[9, 2, 6, 3, 4, 0, 7, 0, 1],\n",
       " [0, 5, 0, 0, 2, 6, 4, 0, 9],\n",
       " [0, 7, 0, 8, 0, 1, 0, 0, 0],\n",
       " [0, 0, 0, 9, 0, 0, 2, 0, 7],\n",
       " [3, 4, 2, 0, 0, 0, 0, 0, 5],\n",
       " [1, 0, 0, 0, 0, 0, 8, 0, 0],\n",
       " [6, 8, 5, 4, 0, 0, 0, 1, 2],\n",
       " [0, 0, 4, 0, 0, 2, 9, 0, 0],\n",
       " [0, 1, 0, 5, 3, 8, 0, 7, 0]]"
      ]
     },
     "execution_count": 52,
     "metadata": {},
     "output_type": "execute_result"
    }
   ],
   "source": [
    "board = [[9,2,6,3,4,0,7,0,1],\n",
    "   [0,5,0,0,2,6,4,0,9],\n",
    "   [0,7,0,8,0,1,0,0,0],\n",
    "   [0,0,0,9,0,0,2,0,7],\n",
    "   [3,4,2,0,0,0,0,0,5],\n",
    "   [1,0,0,0,0,0,8,0,0],\n",
    "   [6,8,5,4,0,0,0,1,2],\n",
    "   [0,0,4,0,0,2,9,0,0],\n",
    "   [0,1,0,5,3,8,0,7,0]]\n",
    "\n",
    "def printq(bo):\n",
    "    for i in range(len(bo)):\n",
    "        if i%3==0 and i!=0:\n",
    "            print('- - - - - - - - - -')\n",
    "\n",
    "        for j in range(len(bo[0])):\n",
    "            if j%3==0 and j!=0:\n",
    "                print('|',end='')\n",
    "            if j==8:\n",
    "                print(bo[i][j])\n",
    "            else:\n",
    "                print(str(bo[i][j]),end=' ')\n",
    "def empty_pos(bo):\n",
    "    for i in range(len(bo)):\n",
    "        for j in range(len(bo[0])):\n",
    "            if bo[i][j]==0:\n",
    "                return i,j\n",
    "    return None\n",
    "def valid(bo,num,pos):\n",
    "    for i in range(len(bo[0])):\n",
    "        if bo[pos[0]][i]== num and pos[1]!=i:\n",
    "            return False\n",
    "    # checking column\n",
    "    for i in range(len(bo)):\n",
    "        if bo[i][pos[1]]== num and pos[0]!=i:\n",
    "            return False\n",
    "    # checking box\n",
    "              \n",
    "    box_x=pos[0] //3\n",
    "    box_y=pos[1]//3\n",
    "    for i in range(box_y*3,box_y*3+3):\n",
    "        for j in range(box_x*3,box_x*3+3):\n",
    "            if bo[i][j]==num and (i,j)!=pos:\n",
    "                return False\n",
    "\n",
    "    return True\n",
    "\n",
    "    \n",
    "def solve(bo):\n",
    "    find=empty_pos(bo)\n",
    "    if not find:\n",
    "        return True\n",
    "    else:\n",
    "        row,col=find\n",
    "    for i in range(1,10):\n",
    "        if valid(bo,i,(row,col)):\n",
    "            bo[row][col]=i\n",
    "            if solve(bo):\n",
    "                \n",
    "                return True\n",
    "            bo[row][col]=0\n",
    "    \n",
    "    return False\n",
    "\n",
    "solve(board)\n",
    "board"
   ]
  },
  {
   "cell_type": "code",
   "execution_count": 3,
   "metadata": {},
   "outputs": [
    {
     "data": {
      "text/plain": [
       "array([[5, 3, 8, 2, 1, 9, 7, 6, 4],\n",
       "       [1, 6, 2, 7, 3, 4, 5, 9, 8],\n",
       "       [4, 7, 9, 6, 8, 5, 1, 3, 2],\n",
       "       [9, 1, 3, 5, 6, 8, 4, 2, 7],\n",
       "       [6, 8, 7, 3, 4, 2, 9, 1, 5],\n",
       "       [2, 5, 4, 1, 9, 7, 6, 8, 3],\n",
       "       [3, 4, 5, 9, 2, 6, 8, 7, 1],\n",
       "       [7, 2, 6, 8, 5, 1, 3, 4, 9],\n",
       "       [8, 9, 1, 4, 7, 3, 2, 5, 6]])"
      ]
     },
     "execution_count": 3,
     "metadata": {},
     "output_type": "execute_result"
    }
   ],
   "source": [
    "import numpy as np\n",
    "from itertools import permutations as pr\n",
    "\n",
    "board = [[5,0,0,2,0,9,0,6,0],\n",
    "   [0,6,2,7,3,0,0,9,8],\n",
    "   [4,0,9,6,0,0,1,3,2],\n",
    "   [9,0,0,0,0,0,4,0,7],\n",
    "   [0,8,7,3,4,0,0,1,0],\n",
    "   [2,0,0,1,0,0,0,0,3],\n",
    "   [3,4,0,0,2,6,8,0,0],\n",
    "   [0,0,6,0,5,1,0,0,0],\n",
    "   [0,0,1,0,0,0,2,0,6]]\n",
    "board=np.array(board)\n",
    "orig_board=board\n",
    "\n",
    "def tot_emp(board2):\n",
    "    tot_emp_pos=[]\n",
    "    for i in range(len(board2[0])):\n",
    "        positions=[]\n",
    "        for j in range(len(board2)):\n",
    "            if board2[i][j]==0:\n",
    "                pos=i,j\n",
    "\n",
    "                positions.append(pos)\n",
    "        tot_emp_pos.append(positions)\n",
    "    return tot_emp_pos\n",
    "tot_empty=tot_emp(orig_board)\n",
    "\n",
    "def valids1(bo,num,pos):\n",
    "    \n",
    "    i =pos[0]\n",
    "    j=pos[1]\n",
    "    curr_row=bo[i]\n",
    "    curr_col=bo[:,j]\n",
    "    \n",
    "  \n",
    "    if i//3==0 and  j//3==0:curr_box=box(bo)[0]\n",
    "    if i//3==0 and  j//3==1:curr_box=box(bo)[1] \n",
    "    if i//3==0 and  j//3==2:curr_box=box(bo)[2] \n",
    "    if i//3==1 and  j//3==0:curr_box=box(bo)[3] \n",
    "    if i//3==1 and  j//3==1:curr_box=box(bo)[4] \n",
    "    if i//3==1 and  j//3==2:curr_box=box(bo)[5] \n",
    "    if i//3==2 and  j//3==0:curr_box=box(bo)[6]\n",
    "    if i//3==2 and  j//3==1:curr_box=box(bo)[7] \n",
    "    if i//3==2 and  j//3==2:curr_box=box(bo)[8]\n",
    "        \n",
    "    if num in curr_row or num in curr_col or num in curr_box:\n",
    "        return False\n",
    "    else:\n",
    "        return True\n",
    "\n",
    "\n",
    "def box(board1):\n",
    "    x,y,k,l=0,0,0,0\n",
    "    box=[]\n",
    "    for i in range(0,3):\n",
    "        for j in range(0,3):\n",
    "            sxe=board1[x:k+3,y:l+3]\n",
    "            \n",
    "            l,y=l+3,y+3\n",
    "            \n",
    "            sxe=sxe.reshape(1,9)\n",
    "            sxe=sxe[0].tolist()\n",
    "            box.append(sxe)\n",
    "        x,k=x+3,k+3\n",
    "        y,l=0,0\n",
    "    \n",
    "    return(box)\n",
    "def fil_row(row):\n",
    "    \n",
    "    f_row=[]\n",
    "    for num in range(1,10):\n",
    "        if num not in row:\n",
    "            \n",
    "            f_row.append(num)\n",
    "    return(f_row)\n",
    "\n",
    "bo=board\n",
    "perm_box=[]\n",
    "\n",
    "for i in range(0,9):\n",
    "    empo=tot_empty[i]\n",
    "\n",
    "    fi_row=fil_row(bo[i])\n",
    "    per_box=[]\n",
    "    perm_box.append(per_box)\n",
    "    perm=pr(fi_row)\n",
    "    for per in perm:\n",
    "        l=0\n",
    "        for num in per:\n",
    "\n",
    "            if valids1(bo,num,(empo[l][0],empo[l][1]))==True:\n",
    "                l+=1\n",
    "            else:\n",
    "                break\n",
    "            if l==len(empo)-1:\n",
    "                per_box.append(per)\n",
    "\n",
    "                break\n",
    "\n",
    "def solu(per,i):\n",
    "    \n",
    "    empo=tot_empty[i]\n",
    "    g=0\n",
    "    for d in range(len(per)):\n",
    "        \n",
    "            board[empo[g][0]][empo[g][1]]=0\n",
    "            g+=1\n",
    "    f=0\n",
    "    \n",
    "    for r in per:\n",
    "        if valids1(board,r,(empo[f][0],empo[f][1]))==True:\n",
    "            board[empo[f][0]][empo[f][1]]=r\n",
    "            f+=1\n",
    "    if f==len(empo):\n",
    "        return True\n",
    "    else:\n",
    "        return False\n",
    "def solr(i):\n",
    "    for per0 in perm_box[i]:\n",
    "        if solu(per0,i)==True:\n",
    "            for per1 in perm_box[i+1]:\n",
    "                if solu(per1,i+1)==True:\n",
    "                    for per2 in perm_box[i+2]:\n",
    "                        if solu(per2,i+2)==True:\n",
    "                            for per3 in perm_box[i+3]:\n",
    "                                if solu(per3,i+3)==True:\n",
    "                                    for per4 in perm_box[i+4]:\n",
    "                                        if solu(per4,i+4)==True:\n",
    "                                            for per5 in perm_box[i+5]:\n",
    "                                                if solu(per5,i+5)==True:\n",
    "                                                    for per6 in perm_box[i+6]:\n",
    "                                                        if solu(per6,i+6)==True:\n",
    "                                                             for per7 in perm_box[i+7]:\n",
    "                                                                if solu(per7,i+7)==True:\n",
    "                                                                    for per8 in perm_box[i+8]:\n",
    "                                                                        if solu(per8,i+8)==True:\n",
    "                                                                            return board\n",
    "            \n",
    "\n",
    "            \n",
    "                   \n",
    "solr(0)   \n"
   ]
  },
  {
   "cell_type": "code",
   "execution_count": 60,
   "metadata": {},
   "outputs": [],
   "source": [
    "df=[[5,0,0,2,0,9,0,6,0],\n",
    "   [0,6,2,7,3,0,0,9,8],\n",
    "   [4,0,9,6,0,0,1,3,2],\n",
    "   [9,0,0,0,0,0,4,0,7],\n",
    "   [0,8,7,3,4,0,0,1,0],\n",
    "   [2,0,0,1,0,0,0,0,3],\n",
    "   [3,4,0,0,2,6,8,0,0],\n",
    "   [0,0,6,0,5,1,0,0,0],\n",
    "   [0,0,1,0,0,0,2,0,6]]"
   ]
  },
  {
   "cell_type": "code",
   "execution_count": 38,
   "metadata": {},
   "outputs": [
    {
     "data": {
      "text/plain": [
       "34200"
      ]
     },
     "execution_count": 38,
     "metadata": {},
     "output_type": "execute_result"
    }
   ],
   "source": [
    "df=pd.read_csv('desktop/gdp.csv')\n",
    "x=df.amount.sum()\n",
    "x"
   ]
  },
  {
   "cell_type": "code",
   "execution_count": 31,
   "metadata": {},
   "outputs": [
    {
     "name": "stdout",
     "output_type": "stream",
     "text": [
      "[[9 2 6 3 4 0 7 0 1]\n",
      " [0 5 0 0 2 6 4 0 9]\n",
      " [0 7 0 8 0 1 0 0 0]\n",
      " [0 0 0 9 0 0 2 0 7]\n",
      " [5 0 0 0 0 0 2 4 3]\n",
      " [1 0 0 0 0 0 8 0 0]\n",
      " [6 8 5 4 0 0 0 1 2]\n",
      " [0 0 4 0 0 2 9 0 0]\n",
      " [0 1 0 5 3 8 0 7 0]]\n"
     ]
    }
   ],
   "source": []
  },
  {
   "cell_type": "code",
   "execution_count": 33,
   "metadata": {},
   "outputs": [
    {
     "data": {
      "text/plain": [
       "(9, 9)"
      ]
     },
     "execution_count": 33,
     "metadata": {},
     "output_type": "execute_result"
    }
   ],
   "source": [
    "df1.shape"
   ]
  },
  {
   "cell_type": "code",
   "execution_count": null,
   "metadata": {},
   "outputs": [],
   "source": []
  }
 ],
 "metadata": {
  "kernelspec": {
   "display_name": "Python 3",
   "language": "python",
   "name": "python3"
  },
  "language_info": {
   "codemirror_mode": {
    "name": "ipython",
    "version": 3
   },
   "file_extension": ".py",
   "mimetype": "text/x-python",
   "name": "python",
   "nbconvert_exporter": "python",
   "pygments_lexer": "ipython3",
   "version": "3.7.6"
  }
 },
 "nbformat": 4,
 "nbformat_minor": 4
}
